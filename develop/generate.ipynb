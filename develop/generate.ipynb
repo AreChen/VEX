{
 "cells": [
  {
   "cell_type": "code",
   "execution_count": 1,
   "metadata": {
    "collapsed": false
   },
   "outputs": [],
   "source": [
    "import json\n",
    "import os.path as op\n",
    "from pprint import pprint\n",
    "\n",
    "assert op.exists('functions.json')\n",
    "assert op.exists('expressions.json')"
   ]
  },
  {
   "cell_type": "markdown",
   "metadata": {},
   "source": [
    "### Generate VEX functions completions\n",
    "\n",
    "Write completions into a `functions.sublime-completions` file."
   ]
  },
  {
   "cell_type": "code",
   "execution_count": 2,
   "metadata": {
    "collapsed": false
   },
   "outputs": [
    {
     "name": "stdout",
     "output_type": "stream",
     "text": [
      "Generated 1307 completions.\n"
     ]
    }
   ],
   "source": [
    "with open('functions.json') as f:\n",
    "    functions = json.load(f)\n",
    "\n",
    "comps = {\n",
    "    'scope': 'source.vex -source.hscript -string',\n",
    "    'completions': []\n",
    "}\n",
    "unique_triggers = set()  # Keep track of existing completions.\n",
    "\n",
    "for f in sorted(functions, key=lambda x: x.lower()):\n",
    "    for sig in functions[f]['sigs']:\n",
    "        args = sig['argnames'][:]\n",
    "\n",
    "        # Add vararg ellipsis.\n",
    "        if 'variadic' in sig:\n",
    "            if args:\n",
    "                args[-1] += ', ...'\n",
    "            else:\n",
    "                args = ['...']\n",
    "\n",
    "        trigger = '%s(%s)' %(f, ', '.join(args))\n",
    "        \n",
    "        # Completion exists.\n",
    "        if trigger in unique_triggers:\n",
    "            continue\n",
    "        # Completion not exists. Make a new one.\n",
    "        unique_triggers |= {trigger}\n",
    "\n",
    "        # Build contents.\n",
    "        args = []\n",
    "        counter = 1\n",
    "        for i, arg in enumerate(sig['argnames'], 1):\n",
    "            args.append('${%d:%s}' %(i, arg))\n",
    "            counter = i + 1\n",
    "        # Add vararg ellipsis.\n",
    "        if 'variadic' in sig:\n",
    "            if args:\n",
    "                args[-1] += '${%d:, ...}' %counter\n",
    "            else:\n",
    "                args = ['${%d:...}' %counter]\n",
    "\n",
    "        contents = '%s(%s)' %(f, ', '.join(args))\n",
    "        comps['completions'].append({'trigger': trigger,\n",
    "                                     'contents': contents})\n",
    "\n",
    "print('Generated %d completions.' % len(unique_triggers))\n",
    "\n",
    "with open('functions.sublime-completions', 'w') as f:\n",
    "    json.dump(comps, f, indent=4)"
   ]
  },
  {
   "cell_type": "markdown",
   "metadata": {},
   "source": [
    "### Generate HScript Expressions completions\n",
    "\n",
    "Write completions into a `expressions.sublime-completions` file."
   ]
  },
  {
   "cell_type": "code",
   "execution_count": 3,
   "metadata": {
    "collapsed": false
   },
   "outputs": [
    {
     "name": "stdout",
     "output_type": "stream",
     "text": [
      "Generated 390 completions.\n"
     ]
    }
   ],
   "source": [
    "with open('expressions.json') as f:\n",
    "    expressions = json.load(f)\n",
    "\n",
    "comps = {\n",
    "    'scope': 'source.hscript',\n",
    "    'completions': []\n",
    "}\n",
    "\n",
    "for f in sorted(expressions, key=lambda x: x.lower()):\n",
    "    name = f\n",
    "    if 'args' in expressions[f]:\n",
    "        names = expressions[f]['argnames']\n",
    "        args = [' '.join(a) for a in zip(expressions[f]['args'], names)]\n",
    "    else:\n",
    "        names = []\n",
    "        args = []\n",
    "\n",
    "    subs = []\n",
    "    for i, arg in enumerate(args, 1):\n",
    "        subs.append('${{{}:{}}}'.format(i, arg))\n",
    "\n",
    "    trigger = '{}({})'.format(f, ', '.join(names))\n",
    "    contents = '{}({})'.format(f, ', '.join(subs))\n",
    "    comps['completions'].append({'trigger': trigger,\n",
    "                                 'contents': contents})\n",
    "\n",
    "print('Generated %d completions.' % len(comps['completions']))\n",
    "\n",
    "with open('expressions.sublime-completions', 'w') as f:\n",
    "    json.dump(comps, f, indent=4)"
   ]
  },
  {
   "cell_type": "markdown",
   "metadata": {},
   "source": [
    "### Generate helpcards file\n",
    "\n",
    "Assumed HTML aready generated.\n",
    "    \n",
    "#### Input structure:\n",
    "\n",
    "`functions` and `expressions`\n",
    "```yaml\n",
    "foo:\n",
    "    help: <html>foo<html>\n",
    "```\n",
    "\n",
    "#### Output structure:\n",
    "\n",
    "`helpcards`\n",
    "```yaml\n",
    "hscript:\n",
    "    foo: <html>foo<html>\n",
    "vex:\n",
    "    foo: <html>foo<html>\n",
    "```"
   ]
  },
  {
   "cell_type": "code",
   "execution_count": 4,
   "metadata": {
    "collapsed": false
   },
   "outputs": [
    {
     "name": "stdout",
     "output_type": "stream",
     "text": [
      "Written 388 helpcards for HScript Expressions.\n",
      "Written 702 helpcards for VEX functions.\n"
     ]
    }
   ],
   "source": [
    "# Format into output structure.\n",
    "helpcards = {\n",
    "    'hscript': {f : expressions[f]['help']\n",
    "                for f in expressions\n",
    "                if 'help' in expressions[f]},\n",
    "    'vex': {f : functions[f]['help']\n",
    "            for f in functions\n",
    "            if 'help' in functions[f]}\n",
    "}\n",
    "\n",
    "print('Written %d helpcards for HScript Expressions.' % len(helpcards['hscript']))\n",
    "print('Written %d helpcards for VEX functions.' % len(helpcards['vex']))\n",
    "\n",
    "with open('helpcards.json', 'w') as f:\n",
    "    json.dump(helpcards, f, indent=4, sort_keys=True)"
   ]
  },
  {
   "cell_type": "code",
   "execution_count": null,
   "metadata": {
    "collapsed": true
   },
   "outputs": [],
   "source": []
  }
 ],
 "metadata": {
  "anaconda-cloud": {},
  "kernelspec": {
   "display_name": "Python 3",
   "language": "python",
   "name": "python3"
  },
  "language_info": {
   "codemirror_mode": {
    "name": "ipython",
    "version": 3
   },
   "file_extension": ".py",
   "mimetype": "text/x-python",
   "name": "python",
   "nbconvert_exporter": "python",
   "pygments_lexer": "ipython3",
   "version": "3.6.0"
  }
 },
 "nbformat": 4,
 "nbformat_minor": 0
}
