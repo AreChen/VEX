{
 "cells": [
  {
   "cell_type": "code",
   "execution_count": 3,
   "metadata": {
    "collapsed": false
   },
   "outputs": [],
   "source": [
    "import sys\n",
    "import os\n",
    "import os.path as op\n",
    "import copy\n",
    "import re\n",
    "import zipfile\n",
    "import json\n",
    "import html\n",
    "import htmltag\n",
    "import bs4\n",
    "\n",
    "HFS = os.environ['HFS']\n",
    "\n",
    "sys.path.append(op.join(HFS, 'houdini/python2.7libs'))\n",
    "from bookish.wikipages import parse_string as parse_wikipage"
   ]
  },
  {
   "cell_type": "code",
   "execution_count": null,
   "metadata": {
    "collapsed": false
   },
   "outputs": [],
   "source": [
    "# Open vex.zip containing various helpcards including functions.\n",
    "# Parse Wiki files into JSON using Bookish parser.\n",
    "functions = {}\n",
    "\n",
    "with zipfile.ZipFile(op.join(utils.HFS, 'houdini/help/vex.zip')) as z:\n",
    "    for path in z.namelist():\n",
    "        if op.dirname(path) == 'functions':\n",
    "            with z.open(path) as f:\n",
    "                name = path[10:-4]\n",
    "                markup = f.read().decode()\n",
    "                functions[name] = parse_wikipage(markup)"
   ]
  },
  {
   "cell_type": "code",
   "execution_count": null,
   "metadata": {
    "collapsed": false
   },
   "outputs": [],
   "source": [
    "parsed = parse_sigs(set(all_usages(functions)))\n",
    "\n",
    "# Override documentation signatures.\n",
    "with open('functions.vfl') as f:\n",
    "    overrides = parse_sigs(f.read().split('\\n'))\n",
    "    \n",
    "for f, sigs in overrides.items():\n",
    "    # Function not exists.\n",
    "    if f not in parsed:\n",
    "        parsed[f] = sigs\n",
    "        continue\n",
    "\n",
    "    # Function exists. Search for unique signatures.\n",
    "    for over_s in sigs['sigs']:\n",
    "        for s in copy.deepcopy(parsed[f]['sigs']):\n",
    "            # Non-unique signature found. Override argument names.\n",
    "            if s['args'] == over_s['args']:\n",
    "                parsed[f]['sigs'].remove(s)\n",
    "                parsed[f]['sigs'].insert(0, over_s)\n",
    "                break  # Suppress for-else clause.\n",
    "\n",
    "        # Non-unique signatures not found (= the signature is unique).\n",
    "        else:\n",
    "            parsed[f]['sigs'].insert(0, over_s)\n",
    "            \n",
    "sum(len(parsed[f]['sigs']) for f in parsed)"
   ]
  },
  {
   "cell_type": "code",
   "execution_count": null,
   "metadata": {
    "collapsed": false
   },
   "outputs": [],
   "source": [
    "# Inspect Bookish types.\n",
    "def types(node):\n",
    "    '''Recursively extract all 'type' values from Bookish tree.'''\n",
    "    if type(node) is dict:\n",
    "        yield node['type']\n",
    "\n",
    "        for k in node:\n",
    "            if type(node[k]) is list:\n",
    "                for i in node[k]:\n",
    "                    for j in types(i):\n",
    "                        yield j\n",
    "                        \n",
    "def all_types(functions):\n",
    "    for f in functions:\n",
    "        for t in types(functions[f]):\n",
    "            yield t\n",
    "    \n",
    "\n",
    "bookish_types = set(all_types(functions))\n",
    "print(' '.join(sorted(bookish_types)))\n",
    "print('Total:', len(bookish_types))"
   ]
  },
  {
   "cell_type": "code",
   "execution_count": null,
   "metadata": {
    "collapsed": false
   },
   "outputs": [],
   "source": [
    "from htmltag import code, div, em, h1, h2, p, span, strong\n",
    "\n",
    "\n",
    "class Wrapper:\n",
    "    '''Convert Bookish JSON structure to html.'''\n",
    "\n",
    "    def __init__(self):\n",
    "        # Trivial type handlers.\n",
    "        self.arg = lambda n: div(self(n['text']), _class='arg')\n",
    "        self.bullet = lambda n: div(self(n['text']), _class='bullet')\n",
    "        self.code = lambda n: code(self(n['text']))\n",
    "        self.dt = lambda n: div(self(n['text']), _class='dt')\n",
    "        self.em = lambda n: em(self(n['text']))\n",
    "        self.h = lambda n: h2(self(n['text']))\n",
    "        self.ord = self.bullet\n",
    "        self.para = lambda n: p(self(n['text']))\n",
    "        self.pre = lambda n: div(self.code(n), _class='pre')\n",
    "        self.prop = lambda n: div(self(n['value']), _class='prop %s' % n['name'])\n",
    "        self.root = lambda n: div(self(n['body']), _class='helpcard')\n",
    "        self.strong = lambda n: strong(self(n['text']))\n",
    "        self.summary = lambda n: p(self(n['text']), _class='summary')\n",
    "        self.title = lambda n: h1(self(n['text']))\n",
    "        self.ui = lambda n: span(self(n['text']), _class='ui')\n",
    "        self.usage = lambda n: div(self(n['text']), _class='usage')\n",
    "        self.var = lambda n: code(self(n['text']), _class='var')\n",
    "        self.xml = lambda n: span(self(n['text']), _class='xmltag %s' % n['tag'])\n",
    "        self.examples_section = lambda n: div('', _class='examples_section', _id=n['id'])\n",
    "        self.parameters_section = lambda n: div('', _class='parameters_section', _id=n['id'])\n",
    "        self.related_section = lambda n: div('', _class='related_section', _id=n['id'])\n",
    "        self.return_section = lambda n: div(self(n['text']), _class='return_section', _id=n['id'])\n",
    "        self.syntax_section = lambda n: div('', _class='syntax_section', _id=n['id'])\n",
    "        self.box = lambda n: ''\n",
    "        self.note = lambda n: ''\n",
    "        self.pxml = lambda n: ''\n",
    "        self.returns = lambda n: ''\n",
    "        self.tip = lambda n: ''\n",
    "        self.warning = lambda n: ''\n",
    "\n",
    "    def link(self, n):\n",
    "        if n['scheme'] == 'Include':\n",
    "            # Do not handle anything for now.\n",
    "            return ''\n",
    "    \n",
    "        base = {\n",
    "            'Hom': 'https://www.sidefx.com/docs/houdini/hom/hou/',\n",
    "            'Hprop': 'https://www.sidefx.com/docs/houdini/props/mantra#',\n",
    "            'Image': 'https://www.sidefx.com/docs/houdini',\n",
    "            'Node': 'https://www.sidefx.com/docs/houdini/nodes/',\n",
    "            'Vex': 'https://www.sidefx.com/docs/houdini/vex/functions/',\n",
    "            'Wp': 'https://en.wikipedia.org/wiki/',\n",
    "            None: 'https://www.sidefx.com/docs/houdini',\n",
    "        }[n['scheme']]\n",
    "\n",
    "        rest = n['value']\n",
    "        if n['scheme'] == 'Hom':\n",
    "            rest = rest.rsplit('.')[-1]\n",
    "\n",
    "        content = n['value'] if not n['text'] else n['text']\n",
    "        return htmltag.a(self(content), href=base+rest)\n",
    "\n",
    "    def __call__(self, node):\n",
    "        if type(node) is dict:\n",
    "            return getattr(self, node['type'])(node)\n",
    "        elif type(node) is list:\n",
    "            return htmltag.HTML(''.join(self(i) for i in node))\n",
    "        return html.escape(node)\n",
    "\n",
    "\n",
    "wrapper = Wrapper()\n",
    "\n",
    "for f in functions:\n",
    "    wrapper(functions[f])\n",
    "\n",
    "# function = 'chsetattr'\n",
    "# with open('helpcards.json') as infile:\n",
    "#     old_page = json.load(infile)['vex'][function]\n",
    "#     with open('out/%s.html' % function, 'w', encoding='utf-8') as outfile:\n",
    "#         outfile.write(old_page)\n",
    "# with open('out/%s.json' % function, 'w') as f:\n",
    "#     json.dump(functions[function], f, indent=4)\n",
    "# soup = bs4.BeautifulSoup(wrapper(functions[function]), 'html.parser')\n",
    "# print(soup.prettify())"
   ]
  },
  {
   "cell_type": "code",
   "execution_count": null,
   "metadata": {
    "collapsed": true
   },
   "outputs": [],
   "source": []
  }
 ],
 "metadata": {
  "kernelspec": {
   "display_name": "Python 3",
   "language": "python",
   "name": "python3"
  },
  "language_info": {
   "codemirror_mode": {
    "name": "ipython",
    "version": 3
   },
   "file_extension": ".py",
   "mimetype": "text/x-python",
   "name": "python",
   "nbconvert_exporter": "python",
   "pygments_lexer": "ipython3",
   "version": "3.6.0"
  }
 },
 "nbformat": 4,
 "nbformat_minor": 2
}
